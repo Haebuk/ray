{
 "cells": [
  {
   "cell_type": "markdown",
   "id": "intellectual-vietnamese",
   "metadata": {},
   "source": [
    "# Ray Tutorial\n",
    "참조\n",
    "\n",
    "[Python Ray 사용법 - Python 병렬처리, 분산처리](https://zzsza.github.io/mlops/2021/01/03/python-ray/)\n",
    "\n",
    "[Tips for first-time users](https://docs.ray.io/en/master/auto_examples/tips-for-first-time.html)"
   ]
  },
  {
   "cell_type": "markdown",
   "id": "valuable-creator",
   "metadata": {},
   "source": [
    "### 라이브러리 import 및 버전 확인"
   ]
  },
  {
   "cell_type": "code",
   "execution_count": 2,
   "id": "actual-accountability",
   "metadata": {
    "ExecuteTime": {
     "end_time": "2021-03-12T22:42:24.844415Z",
     "start_time": "2021-03-12T22:42:24.838409Z"
    }
   },
   "outputs": [
    {
     "name": "stdout",
     "output_type": "stream",
     "text": [
      "1.2.0\n"
     ]
    }
   ],
   "source": [
    "import ray\n",
    "import datetime\n",
    "import time\n",
    "\n",
    "print(ray.__version__)"
   ]
  },
  {
   "cell_type": "markdown",
   "id": "proof-frost",
   "metadata": {},
   "source": [
    "### 비교를 위한 일반 파이썬 함수 정의\n",
    "-참고: datetime.datetime은 날짜와 시간을 나타내며 (연도, 월, 일, 시간, 분, 초, 마이크로 초, tzinfo)를 의미"
   ]
  },
  {
   "cell_type": "code",
   "execution_count": 4,
   "id": "second-coverage",
   "metadata": {
    "ExecuteTime": {
     "end_time": "2021-03-12T22:43:24.855532Z",
     "start_time": "2021-03-12T22:43:24.846524Z"
    }
   },
   "outputs": [],
   "source": [
    "def print_current_datetime():\n",
    "    time.sleep(0.3)\n",
    "    current_datetime = datetime.datetime.now()\n",
    "    print(current_datetime)\n",
    "    return current_datetime"
   ]
  },
  {
   "cell_type": "markdown",
   "id": "basic-british",
   "metadata": {},
   "source": [
    "### 일반 파이썬 함수 호출"
   ]
  },
  {
   "cell_type": "code",
   "execution_count": 5,
   "id": "sporting-prison",
   "metadata": {
    "ExecuteTime": {
     "end_time": "2021-03-12T22:43:38.589530Z",
     "start_time": "2021-03-12T22:43:38.263233Z"
    }
   },
   "outputs": [
    {
     "name": "stdout",
     "output_type": "stream",
     "text": [
      "2021-03-13 07:43:38.573515\n"
     ]
    },
    {
     "data": {
      "text/plain": [
       "datetime.datetime(2021, 3, 13, 7, 43, 38, 573515)"
      ]
     },
     "execution_count": 5,
     "metadata": {},
     "output_type": "execute_result"
    }
   ],
   "source": [
    "print_current_datetime()"
   ]
  },
  {
   "cell_type": "markdown",
   "id": "destroyed-drilling",
   "metadata": {},
   "source": [
    "### Ray 실행"
   ]
  },
  {
   "cell_type": "code",
   "execution_count": 6,
   "id": "greek-gibraltar",
   "metadata": {
    "ExecuteTime": {
     "end_time": "2021-03-12T22:44:17.875286Z",
     "start_time": "2021-03-12T22:44:05.639145Z"
    }
   },
   "outputs": [
    {
     "name": "stderr",
     "output_type": "stream",
     "text": [
      "2021-03-13 07:44:06,975\tINFO services.py:1174 -- View the Ray dashboard at \u001b[1m\u001b[32mhttp://127.0.0.1:8265\u001b[39m\u001b[22m\n"
     ]
    },
    {
     "data": {
      "text/plain": [
       "{'node_ip_address': '192.168.124.100',\n",
       " 'raylet_ip_address': '192.168.124.100',\n",
       " 'redis_address': '192.168.124.100:6379',\n",
       " 'object_store_address': 'tcp://127.0.0.1:54915',\n",
       " 'raylet_socket_name': 'tcp://127.0.0.1:52920',\n",
       " 'webui_url': '127.0.0.1:8265',\n",
       " 'session_dir': 'C:\\\\Users\\\\Public\\\\Documents\\\\ESTsoft\\\\CreatorTemp\\\\ray\\\\session_2021-03-13_07-44-05_646152_1072',\n",
       " 'metrics_export_port': 64122,\n",
       " 'node_id': 'af2cbefb99df5446ef91442cfafbe8c76f00918dee3c42e7882a7835'}"
      ]
     },
     "execution_count": 6,
     "metadata": {},
     "output_type": "execute_result"
    }
   ],
   "source": [
    "ray.init()"
   ]
  },
  {
   "cell_type": "markdown",
   "id": "declared-subsection",
   "metadata": {},
   "source": [
    "실행 시 위와 같은 값들이 출력됨\n",
    "- http://127.0.0.1:8265 (localhost:8265)로 접근하면 대시보드 확인 가능\n",
    "- 대시보드 내용은 밑에서 다룸"
   ]
  },
  {
   "cell_type": "markdown",
   "id": "referenced-wales",
   "metadata": {},
   "source": [
    "### Ray Task(Remote Function) 정의\n",
    "- 기존 함수에서 `@ray.remote`만 추가"
   ]
  },
  {
   "cell_type": "code",
   "execution_count": 7,
   "id": "wooden-cruise",
   "metadata": {
    "ExecuteTime": {
     "end_time": "2021-03-12T22:46:56.993592Z",
     "start_time": "2021-03-12T22:46:56.990589Z"
    }
   },
   "outputs": [],
   "source": [
    "# Ray task\n",
    "@ray.remote\n",
    "def print_current_datetime():\n",
    "    time.sleep(0.3)\n",
    "    current_datetime = datetime.datetime.now()\n",
    "    print(current_datetime)\n",
    "    return current_datetime"
   ]
  },
  {
   "cell_type": "markdown",
   "id": "actual-certificate",
   "metadata": {},
   "source": [
    "### 일반 파이썬 함수 호출처럼 실행해 보면 TypeError 발생\n",
    "- Remote 함수는 직접적으로 호출할 수 없고, .remote()를 추가하라고 함"
   ]
  },
  {
   "cell_type": "code",
   "execution_count": 8,
   "id": "amber-mathematics",
   "metadata": {
    "ExecuteTime": {
     "end_time": "2021-03-12T22:47:15.420362Z",
     "start_time": "2021-03-12T22:47:15.359306Z"
    }
   },
   "outputs": [
    {
     "ename": "TypeError",
     "evalue": "Remote functions cannot be called directly. Instead of running '__main__.print_current_datetime()', try '__main__.print_current_datetime.remote()'.",
     "output_type": "error",
     "traceback": [
      "\u001b[1;31m---------------------------------------------------------------------------\u001b[0m",
      "\u001b[1;31mTypeError\u001b[0m                                 Traceback (most recent call last)",
      "\u001b[1;32m<ipython-input-8-ae4aa9a51285>\u001b[0m in \u001b[0;36m<module>\u001b[1;34m\u001b[0m\n\u001b[1;32m----> 1\u001b[1;33m \u001b[0mprint_current_datetime\u001b[0m\u001b[1;33m(\u001b[0m\u001b[1;33m)\u001b[0m\u001b[1;33m\u001b[0m\u001b[1;33m\u001b[0m\u001b[0m\n\u001b[0m",
      "\u001b[1;32mC:\\ProgramData\\Anaconda3\\envs\\tens_2g\\lib\\site-packages\\ray\\remote_function.py\u001b[0m in \u001b[0;36m__call__\u001b[1;34m(self, *args, **kwargs)\u001b[0m\n\u001b[0;32m    104\u001b[0m \u001b[1;33m\u001b[0m\u001b[0m\n\u001b[0;32m    105\u001b[0m     \u001b[1;32mdef\u001b[0m \u001b[0m__call__\u001b[0m\u001b[1;33m(\u001b[0m\u001b[0mself\u001b[0m\u001b[1;33m,\u001b[0m \u001b[1;33m*\u001b[0m\u001b[0margs\u001b[0m\u001b[1;33m,\u001b[0m \u001b[1;33m**\u001b[0m\u001b[0mkwargs\u001b[0m\u001b[1;33m)\u001b[0m\u001b[1;33m:\u001b[0m\u001b[1;33m\u001b[0m\u001b[1;33m\u001b[0m\u001b[0m\n\u001b[1;32m--> 106\u001b[1;33m         raise TypeError(\"Remote functions cannot be called directly. Instead \"\n\u001b[0m\u001b[0;32m    107\u001b[0m                         \u001b[1;34mf\"of running '{self._function_name}()', \"\u001b[0m\u001b[1;33m\u001b[0m\u001b[1;33m\u001b[0m\u001b[0m\n\u001b[0;32m    108\u001b[0m                         f\"try '{self._function_name}.remote()'.\")\n",
      "\u001b[1;31mTypeError\u001b[0m: Remote functions cannot be called directly. Instead of running '__main__.print_current_datetime()', try '__main__.print_current_datetime.remote()'."
     ]
    }
   ],
   "source": [
    "print_current_datetime()"
   ]
  },
  {
   "cell_type": "markdown",
   "id": "imposed-fever",
   "metadata": {},
   "source": [
    "### `print_current_datetime.remote()`를 사용해 Task 호출\n",
    "- ObjectRef가 반환됨"
   ]
  },
  {
   "cell_type": "code",
   "execution_count": 9,
   "id": "palestinian-knife",
   "metadata": {
    "ExecuteTime": {
     "end_time": "2021-03-12T22:48:29.626393Z",
     "start_time": "2021-03-12T22:48:29.615383Z"
    }
   },
   "outputs": [
    {
     "data": {
      "text/plain": [
       "ObjectRef(a67dc375e60ddd1affffffffffffffffffffffff0100000001000000)"
      ]
     },
     "execution_count": 9,
     "metadata": {},
     "output_type": "execute_result"
    },
    {
     "name": "stdout",
     "output_type": "stream",
     "text": [
      "\u001b[2m\u001b[36m(pid=3164)\u001b[0m 2021-03-13 07:48:29.946684\r\n"
     ]
    }
   ],
   "source": [
    "print_current_datetime.remote()"
   ]
  },
  {
   "cell_type": "markdown",
   "id": "continued-amino",
   "metadata": {},
   "source": [
    "- 다시 또 실행하면 다른 id 반환"
   ]
  },
  {
   "cell_type": "code",
   "execution_count": 10,
   "id": "institutional-theory",
   "metadata": {
    "ExecuteTime": {
     "end_time": "2021-03-12T22:48:51.985741Z",
     "start_time": "2021-03-12T22:48:51.982738Z"
    }
   },
   "outputs": [
    {
     "data": {
      "text/plain": [
       "ObjectRef(63964fa4841d4a2effffffffffffffffffffffff0100000001000000)"
      ]
     },
     "execution_count": 10,
     "metadata": {},
     "output_type": "execute_result"
    },
    {
     "name": "stdout",
     "output_type": "stream",
     "text": [
      "\u001b[2m\u001b[36m(pid=3164)\u001b[0m 2021-03-13 07:48:52.290017\r\n"
     ]
    }
   ],
   "source": [
    "print_current_datetime.remote()"
   ]
  },
  {
   "cell_type": "markdown",
   "id": "correct-formula",
   "metadata": {},
   "source": [
    "### `ray.get()` 을 사용해 값 받기"
   ]
  },
  {
   "cell_type": "code",
   "execution_count": 11,
   "id": "structural-seattle",
   "metadata": {
    "ExecuteTime": {
     "end_time": "2021-03-12T22:50:34.617144Z",
     "start_time": "2021-03-12T22:50:34.297854Z"
    }
   },
   "outputs": [
    {
     "data": {
      "text/plain": [
       "datetime.datetime(2021, 3, 13, 7, 50, 34, 601129)"
      ]
     },
     "execution_count": 11,
     "metadata": {},
     "output_type": "execute_result"
    },
    {
     "name": "stdout",
     "output_type": "stream",
     "text": [
      "\u001b[2m\u001b[36m(pid=3164)\u001b[0m 2021-03-13 07:50:34.601129\r\n"
     ]
    }
   ],
   "source": [
    "ray.get(print_current_datetime.remote())"
   ]
  },
  {
   "cell_type": "markdown",
   "id": "great-wedding",
   "metadata": {},
   "source": [
    "### 동시에 4번 실행하기\n",
    "- List Comprehension을 사용해 futures를 생성 후, 출력하면 4개의 ObjectRef를 확인할 수 있음\n",
    "- ray.get을 통해 값 받기"
   ]
  },
  {
   "cell_type": "code",
   "execution_count": 13,
   "id": "imported-sleep",
   "metadata": {
    "ExecuteTime": {
     "end_time": "2021-03-12T22:51:57.161264Z",
     "start_time": "2021-03-12T22:51:56.838972Z"
    }
   },
   "outputs": [
    {
     "name": "stdout",
     "output_type": "stream",
     "text": [
      "[ObjectRef(623b26bdd75b28e9ffffffffffffffffffffffff0100000001000000), ObjectRef(1e9d04d3b7e4dfb2ffffffffffffffffffffffff0100000001000000), ObjectRef(609d7f556b6757adffffffffffffffffffffffff0100000001000000), ObjectRef(c6953afc4a9f69e9ffffffffffffffffffffffff0100000001000000)]\n"
     ]
    },
    {
     "data": {
      "text/plain": [
       "[datetime.datetime(2021, 3, 13, 7, 51, 57, 145250),\n",
       " datetime.datetime(2021, 3, 13, 7, 51, 57, 145250),\n",
       " datetime.datetime(2021, 3, 13, 7, 51, 57, 145250),\n",
       " datetime.datetime(2021, 3, 13, 7, 51, 57, 145250)]"
      ]
     },
     "execution_count": 13,
     "metadata": {},
     "output_type": "execute_result"
    },
    {
     "name": "stdout",
     "output_type": "stream",
     "text": [
      "\u001b[2m\u001b[36m(pid=3164)\u001b[0m 2021-03-13 07:51:57.145250\r\n",
      "\u001b[2m\u001b[36m(pid=6524)\u001b[0m 2021-03-13 07:51:57.145250\r\n",
      "\u001b[2m\u001b[36m(pid=11608)\u001b[0m 2021-03-13 07:51:57.145250\r\n",
      "\u001b[2m\u001b[36m(pid=6460)\u001b[0m 2021-03-13 07:51:57.145250\r\n"
     ]
    }
   ],
   "source": [
    "futures = [print_current_datetime.remote() for i in range(4)]\n",
    "\n",
    "print(futures)\n",
    "\n",
    "ray.get(futures)"
   ]
  },
  {
   "cell_type": "markdown",
   "id": "understanding-quest",
   "metadata": {},
   "source": [
    "### Ray Dashboard \n",
    "대시보드는 윈도우에서 아직 지원하지 않는다고 한다.ㅠㅠ"
   ]
  },
  {
   "cell_type": "markdown",
   "id": "confident-rental",
   "metadata": {},
   "source": [
    "### 처음 사용하는 사람들을 위한 Tip\n",
    "공식문서 [https://docs.ray.io/en/master/auto_examples/tips-for-first-time.html](Tips for first-time users) 의 핵심 내용. 해당 문서는 꼭 읽어보기"
   ]
  },
  {
   "cell_type": "markdown",
   "id": "durable-renewal",
   "metadata": {},
   "source": [
    "#### 1) `ray.get()`은 실행 횟수 파악하기(가능하면 늦게 호출)\n",
    "+ 다음과 같이 remote를 하며 호출하는 경우는 느림\n",
    "    + 예시(List Comprehension하며 ray.get을 반복 호출)"
   ]
  },
  {
   "cell_type": "code",
   "execution_count": 1,
   "id": "operational-korea",
   "metadata": {
    "ExecuteTime": {
     "end_time": "2021-03-12T23:33:13.127617Z",
     "start_time": "2021-03-12T23:33:09.080935Z"
    }
   },
   "outputs": [
    {
     "name": "stdout",
     "output_type": "stream",
     "text": [
      "duration =  4.028665542602539\n",
      "results =  [0, 1, 2, 3]\n"
     ]
    }
   ],
   "source": [
    "import time\n",
    "\n",
    "def do_some_work(x):\n",
    "    time.sleep(1)\n",
    "    return x\n",
    "\n",
    "start = time.time()\n",
    "results = [do_some_work(x) for x in range(4)]\n",
    "print('duration = ', time.time()-start)\n",
    "print('results = ', results)"
   ]
  },
  {
   "cell_type": "markdown",
   "id": "vietnamese-bottle",
   "metadata": {},
   "source": [
    "위는 ray없이 실행시킨 경우로 실행시간이 약 4초가 나왔다."
   ]
  },
  {
   "cell_type": "code",
   "execution_count": null,
   "id": "simplified-looking",
   "metadata": {
    "ExecuteTime": {
     "end_time": "2021-03-12T23:35:45.266603Z",
     "start_time": "2021-03-12T23:35:45.208550Z"
    }
   },
   "outputs": [],
   "source": [
    "import ray\n",
    "ray.init()"
   ]
  },
  {
   "cell_type": "code",
   "execution_count": 4,
   "id": "together-silence",
   "metadata": {
    "ExecuteTime": {
     "end_time": "2021-03-12T23:36:00.116616Z",
     "start_time": "2021-03-12T23:35:56.041909Z"
    }
   },
   "outputs": [
    {
     "name": "stdout",
     "output_type": "stream",
     "text": [
      "duration =  4.057691335678101\n",
      "results =  [0, 1, 2, 3]\n"
     ]
    }
   ],
   "source": [
    "@ray.remote\n",
    "def do_some_work(x):\n",
    "    time.sleep(1)\n",
    "    return x\n",
    "\n",
    "start = time.time()\n",
    "results = [ray.get(do_some_work.remote(x)) for x in range(4)]\n",
    "print('duration = ', time.time() - start)\n",
    "print('results = ', results)"
   ]
  },
  {
   "cell_type": "markdown",
   "id": "designing-sydney",
   "metadata": {},
   "source": [
    "ray를 사용했으나 동일하게 4초가 나오는 것을 알 수 있다. \n",
    "\n",
    "이를 해결하려면 List Comprehension 결과를 ray.get으로 받아 1번만 호출하면 된다."
   ]
  },
  {
   "cell_type": "code",
   "execution_count": 7,
   "id": "requested-slope",
   "metadata": {
    "ExecuteTime": {
     "end_time": "2021-03-12T23:38:07.810330Z",
     "start_time": "2021-03-12T23:38:06.784397Z"
    }
   },
   "outputs": [
    {
     "name": "stdout",
     "output_type": "stream",
     "text": [
      "duration =  1.0089175701141357\n",
      "results =  [0, 1, 2, 3]\n"
     ]
    }
   ],
   "source": [
    "start = time.time()\n",
    "result = ray.get([do_some_work.remote(x) for x in range(4)])\n",
    "print('duration = ', time.time() - start)\n",
    "print('results = ', results)"
   ]
  },
  {
   "cell_type": "markdown",
   "id": "special-conditions",
   "metadata": {},
   "source": [
    "위처럼 1초로 줄은 모습을 알 수 있다."
   ]
  },
  {
   "cell_type": "markdown",
   "id": "beginning-grace",
   "metadata": {},
   "source": [
    "#### 2. CPU가 적거나 클러스터가 적은 상황에서는 성능 개선이 크지 않을 수 있음"
   ]
  },
  {
   "cell_type": "code",
   "execution_count": 3,
   "id": "broad-given",
   "metadata": {
    "ExecuteTime": {
     "end_time": "2021-03-13T00:39:43.145919Z",
     "start_time": "2021-03-13T00:39:27.147358Z"
    }
   },
   "outputs": [
    {
     "name": "stdout",
     "output_type": "stream",
     "text": [
      "duration =  15.98154592514038\n"
     ]
    }
   ],
   "source": [
    "def tiny_work(x):\n",
    "    time.sleep(0.0001)\n",
    "    return x\n",
    "\n",
    "start = time.time()\n",
    "results = [tiny_work(x) for x in range(1000)]\n",
    "print('duration = ', time.time() - start)"
   ]
  },
  {
   "cell_type": "code",
   "execution_count": 1,
   "id": "suburban-success",
   "metadata": {
    "ExecuteTime": {
     "end_time": "2021-03-13T00:54:51.255901Z",
     "start_time": "2021-03-13T00:54:39.821996Z"
    }
   },
   "outputs": [
    {
     "name": "stderr",
     "output_type": "stream",
     "text": [
      "2021-03-13 09:54:40,599\tINFO services.py:1174 -- View the Ray dashboard at \u001b[1m\u001b[32mhttp://127.0.0.1:8265\u001b[39m\u001b[22m\n"
     ]
    },
    {
     "data": {
      "text/plain": [
       "{'node_ip_address': '192.168.124.100',\n",
       " 'raylet_ip_address': '192.168.124.100',\n",
       " 'redis_address': '192.168.124.100:6379',\n",
       " 'object_store_address': 'tcp://127.0.0.1:64813',\n",
       " 'raylet_socket_name': 'tcp://127.0.0.1:58676',\n",
       " 'webui_url': '127.0.0.1:8265',\n",
       " 'session_dir': 'C:\\\\Users\\\\Public\\\\Documents\\\\ESTsoft\\\\CreatorTemp\\\\ray\\\\session_2021-03-13_09-54-39_988147_10036',\n",
       " 'metrics_export_port': 54838,\n",
       " 'node_id': '179e4096bbbd4f3c79330346a2694401a4b869d19273124cbdc4a6a4'}"
      ]
     },
     "execution_count": 1,
     "metadata": {},
     "output_type": "execute_result"
    }
   ],
   "source": [
    "import time\n",
    "import ray\n",
    "\n",
    "ray.init(num_cpus = 4)"
   ]
  },
  {
   "cell_type": "code",
   "execution_count": 2,
   "id": "located-stuff",
   "metadata": {
    "ExecuteTime": {
     "end_time": "2021-03-13T00:38:57.187593Z",
     "start_time": "2021-03-13T00:38:53.138910Z"
    }
   },
   "outputs": [
    {
     "name": "stdout",
     "output_type": "stream",
     "text": [
      "duration =  4.029665946960449\n"
     ]
    }
   ],
   "source": [
    "@ray.remote\n",
    "def tiny_work(x):\n",
    "    time.sleep(0.0001)\n",
    "    return x\n",
    "\n",
    "start = time.time()\n",
    "results_ids = [tiny_work.remote(x) for x in range(1000)]\n",
    "results = ray.get(results_ids)\n",
    "print('duration = ', time.time() - start)"
   ]
  },
  {
   "cell_type": "markdown",
   "id": "single-comfort",
   "metadata": {},
   "source": [
    "예제에서는 ray를 사용했을 때 duration이 2배정도 증가했는데 이 노트북에서는 약 4배정도 감소한 것으로 보인다. 왤까..? \n",
    "\n",
    "여튼 프로그램의 속도를 증가시키려면 태스크를 좀더 크게 만들면 된다."
   ]
  },
  {
   "cell_type": "code",
   "execution_count": 3,
   "id": "smooth-purse",
   "metadata": {
    "ExecuteTime": {
     "end_time": "2021-03-13T01:02:00.521510Z",
     "start_time": "2021-03-13T00:55:21.612027Z"
    }
   },
   "outputs": [
    {
     "name": "stdout",
     "output_type": "stream",
     "text": [
      "duration = 398.89446926116943\n"
     ]
    }
   ],
   "source": [
    "def tiny_work(x):\n",
    "    time.sleep(0.0001) # replace this is with work you need to do\n",
    "    return x\n",
    "\n",
    "@ray.remote\n",
    "def mega_work(start, end):\n",
    "    return [tiny_work(x) for x in range(start, end)]\n",
    "\n",
    "start = time.time()\n",
    "result_ids = []\n",
    "[result_ids.append(mega_work.remote(x*1000, (x+1)*1000)) for x in range(100)]\n",
    "results = ray.get(result_ids)\n",
    "print('duration =', time.time() - start)"
   ]
  },
  {
   "cell_type": "markdown",
   "id": "sudden-nickel",
   "metadata": {},
   "source": [
    "빨라진건가..? 잘 모르겠다. 아무튼 문서에 따르면 ray 프로그램을 개발할 때 작업에 최소 몇 밀리초가 걸리는 것이 좋다고 한다."
   ]
  },
  {
   "cell_type": "markdown",
   "id": "outer-property",
   "metadata": {},
   "source": [
    "#### 3. 같은 오브젝트를 원격 태스크에 반복적으로 보내지 않기\n",
    "- 큰 오브젝트를 원격 함수에 전달할때, ray는 `ray.put()`을 호출해 해당 오브젝트를 로컬 오브젝트 저장소에 저장한다. 이렇게 하면 모든 로컬 태스크가 오브젝트 저장소를 공유하므로 원격 태스크가 로컬로 실행될 때 원격 태스크 호출 성능이 크게 향상된다.\n",
    "\n",
    "- 그러나 작업 호출 시 `ray.put()`을 자동으로 호출시 성능문제가 발생하는 경우가 있다. 예를 들어, 아래 프로그램 같이 동일한 큰 개체를 반복적으로 전달하는 경우를 살펴보자.\n"
   ]
  },
  {
   "cell_type": "code",
   "execution_count": 5,
   "id": "needed-flush",
   "metadata": {
    "ExecuteTime": {
     "end_time": "2021-03-13T01:12:53.104441Z",
     "start_time": "2021-03-13T01:12:52.861220Z"
    }
   },
   "outputs": [
    {
     "name": "stdout",
     "output_type": "stream",
     "text": [
      "duration =  0.23221206665039062\n"
     ]
    }
   ],
   "source": [
    "import numpy as np\n",
    "\n",
    "@ray.remote\n",
    "def no_work(a):\n",
    "    return\n",
    "\n",
    "start = time.time()\n",
    "a = np.zeros((5000, 5000))\n",
    "result_ids = [no_work.remote(a) for x in range(10)]\n",
    "results = ray.get(result_ids)\n",
    "print('duration = ', time.time() - start)"
   ]
  },
  {
   "cell_type": "markdown",
   "id": "australian-mortgage",
   "metadata": {},
   "source": [
    "- 위는 ray를 사용하지 않고 태스크를 10번 반복했을 때 0.23초가 걸렸음을 알 수 있다. \n",
    "\n",
    "- 문서에서는 10개 원격 태스크만 호출하는 프로그램에 비해 실행시간이 매우 길다고 설명한다.(문서에서는 1초가 걸림) 시간이 긴 이유는 ray가 `no_work(a)`를 호출할 때 마다 `ray.put(a)`를 호출하여 어레이를 오브젝트 저장소에 복사하기 때문이다. 어레이 a에는 250만개의 항목이 있으므로 복사하는데 약간의 시간이 걸린다.\n",
    "\n",
    "- `no_work(a)`를 호출할 때 마다 어레이를 복사하지 않으려면 아래와 같이 `ray.put(a)`를 명시적으로 호출한 다음 `no_work()`에 ID를 전달하면 된다."
   ]
  },
  {
   "cell_type": "code",
   "execution_count": 6,
   "id": "located-length",
   "metadata": {
    "ExecuteTime": {
     "end_time": "2021-03-13T01:14:51.495682Z",
     "start_time": "2021-03-13T01:14:51.428621Z"
    }
   },
   "outputs": [
    {
     "name": "stdout",
     "output_type": "stream",
     "text": [
      "duration =  0.0520474910736084\n"
     ]
    }
   ],
   "source": [
    "@ray.remote\n",
    "def no_work(a):\n",
    "    return\n",
    "\n",
    "start = time.time()\n",
    "a_id = ray.put(np.zeros((5000, 5000)))\n",
    "result_ids = [no_work.remote(a_id) for x in range(10)]\n",
    "results = ray.get(result_ids)\n",
    "print('duration = ', time.time() - start)"
   ]
  },
  {
   "cell_type": "markdown",
   "id": "connected-yorkshire",
   "metadata": {},
   "source": [
    "약 4.5배 정도 빨라졌다!!"
   ]
  },
  {
   "cell_type": "markdown",
   "id": "educational-bulletin",
   "metadata": {},
   "source": [
    "#### 4. 파이프라인 데이터 처리\n",
    "- 여러 작업 결과에 `ray.get()`을 사용할 경우 각 작업이 완료될 때까지 기다려야 한다. \n",
    "    + 작업 시간이 크게 다른 경우 문제가 발생할 수 있다.\n",
    "\n",
    "- 이 문제를 설명하기 위해, 각 작업이 0초에서 4초 사이에 균일하게 분포된 시간을 가지면서 4개의 `do_some_work()` 태스크를 병렬로 실행하는 다음 예를 살펴본다. \n",
    "- 다음으로, 이러한 작업의 결과가 `process_results()`에 의해 처리된다고 가정하면 결과당 1초가 소요\n",
    "-  예상 실행 시간은 `do_some_work()` 작업을 실행하는 데 걸리는 시간 + `process_results()`를 실행하는 데 걸리는 시간(4초)"
   ]
  },
  {
   "cell_type": "code",
   "execution_count": 11,
   "id": "interim-sleeve",
   "metadata": {
    "ExecuteTime": {
     "end_time": "2021-03-13T01:29:47.595690Z",
     "start_time": "2021-03-13T01:29:47.581677Z"
    }
   },
   "outputs": [],
   "source": [
    "import time\n",
    "import random\n",
    "import ray\n",
    "\n",
    "#ray.init()"
   ]
  },
  {
   "cell_type": "code",
   "execution_count": 12,
   "id": "thermal-stamp",
   "metadata": {
    "ExecuteTime": {
     "end_time": "2021-03-13T01:29:56.054889Z",
     "start_time": "2021-03-13T01:29:50.293144Z"
    }
   },
   "outputs": [
    {
     "name": "stdout",
     "output_type": "stream",
     "text": [
      "duration =  5.743727922439575 \n",
      "result =  16\n"
     ]
    }
   ],
   "source": [
    "@ray.remote\n",
    "def do_some_work(x):\n",
    "    time.sleep(random.uniform(0, 4))\n",
    "    return 4\n",
    "\n",
    "def process_results(results):\n",
    "    sum = 0\n",
    "    for x in results:\n",
    "        time.sleep(1)\n",
    "        sum += x\n",
    "    return sum\n",
    "\n",
    "start = time.time()\n",
    "data_list = ray.get([do_some_work.remote(x) for x in range(4)])\n",
    "sum = process_results(data_list)\n",
    "print('duration = ', time.time() - start, '\\nresult = ', sum)"
   ]
  },
  {
   "cell_type": "markdown",
   "id": "developing-cigarette",
   "metadata": {},
   "source": [
    "- 실행시간은 약 6초가 걸렸다."
   ]
  },
  {
   "cell_type": "markdown",
   "id": "electoral-monthly",
   "metadata": {},
   "source": [
    "- 다른 태스크가 훨씬 일찍 끝났을 때 마지막 태스크가 완료될 때까지 기다리면 프로그램 실행 시간이 불필요하게 늘어난다.\n",
    "- Ray는 객체 ID 목록에서 `ray.wait()`를 호출하여 데이터를 사용할 수 있는 즉시 처리한다.\n",
    "    - 이 함수는 다른 매개 변수를 지정하지 않고 인수 목록의 개체가 준비되는 즉시 반환\n",
    "    - 이 호출에는 (1) 준비된 개체의 ID와 (2\n",
    "    ) 아직 준비되지 않은 개체의 ID를 포함하는 목록의 두 가지 반환이 있다.\n",
    "- 수정된 프로그램은 아래와 같다. `process_results()`를 한 번에 하나의 결과를 처리하는 `process_incremental()`으로 대체한다."
   ]
  },
  {
   "cell_type": "code",
   "execution_count": 13,
   "id": "comparable-death",
   "metadata": {
    "ExecuteTime": {
     "end_time": "2021-03-13T02:25:26.850120Z",
     "start_time": "2021-03-13T02:25:21.641878Z"
    }
   },
   "outputs": [
    {
     "name": "stdout",
     "output_type": "stream",
     "text": [
      "duration =  5.190225839614868 \n",
      "result =  6\n"
     ]
    }
   ],
   "source": [
    "@ray.remote\n",
    "def do_some_work(x):\n",
    "    time.sleep(random.uniform(0, 4))\n",
    "    return x\n",
    "\n",
    "def process_incremental(sum, result):\n",
    "    time.sleep(1)\n",
    "    return sum + result\n",
    "\n",
    "start = time.time()\n",
    "result_ids = [do_some_work.remote(x) for x in range(4)]\n",
    "sum = 0\n",
    "while len(result_ids):\n",
    "    done_id, result_ids = ray.wait(result_ids)\n",
    "    sum = process_incremental(sum, ray.get(done_id[0]))\n",
    "print('duration = ', time.time() - start, '\\nresult = ', sum)"
   ]
  },
  {
   "cell_type": "markdown",
   "id": "western-person",
   "metadata": {},
   "source": [
    "- 실행시간이 5.74초에서 5.19초로 약간 줄었다. \n",
    "\n",
    "- 이해를 돕기 위해 그림 1은 `ray.get()`를 사용하여 모든 결과를 사용할 수 있을 때까지 기다릴 때와 `ray.wait()`를 사용하여 결과를 사용할 수 있을 때 처리하는 두 가지 경우 모두 실행 일정을 보여준다."
   ]
  },
  {
   "cell_type": "markdown",
   "id": "incoming-spirit",
   "metadata": {
    "ExecuteTime": {
     "end_time": "2021-03-13T02:31:46.458603Z",
     "start_time": "2021-03-13T02:31:46.439585Z"
    }
   },
   "source": [
    "![ray](./pipeline1.png)"
   ]
  }
 ],
 "metadata": {
  "kernelspec": {
   "display_name": "Python 3",
   "language": "python",
   "name": "python3"
  },
  "language_info": {
   "codemirror_mode": {
    "name": "ipython",
    "version": 3
   },
   "file_extension": ".py",
   "mimetype": "text/x-python",
   "name": "python",
   "nbconvert_exporter": "python",
   "pygments_lexer": "ipython3",
   "version": "3.7.9"
  },
  "toc": {
   "base_numbering": 1,
   "nav_menu": {},
   "number_sections": false,
   "sideBar": true,
   "skip_h1_title": false,
   "title_cell": "Table of Contents",
   "title_sidebar": "Contents",
   "toc_cell": false,
   "toc_position": {},
   "toc_section_display": true,
   "toc_window_display": false
  }
 },
 "nbformat": 4,
 "nbformat_minor": 5
}
